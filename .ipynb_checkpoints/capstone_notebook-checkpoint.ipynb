{
 "cells": [
  {
   "cell_type": "markdown",
   "id": "3a751825-9ee3-41d0-bd9b-942036cb5ee2",
   "metadata": {},
   "source": [
    "# Decoding Customer Sentiment: Analyzing Amazon Reviews Across Product Categories \n",
    "\n",
    "### By: Tania Green"
   ]
  },
  {
   "cell_type": "markdown",
   "id": "d9c54691-10d8-4df1-a305-cc754589539c",
   "metadata": {},
   "source": [
    "## Part 1: Assess the Amazon Sales Dataset"
   ]
  },
  {
   "cell_type": "code",
   "execution_count": 1,
   "id": "cfee6a1d-4a6d-41cd-a5d7-d07640b2a6ef",
   "metadata": {},
   "outputs": [],
   "source": [
    "# all imports\n",
    "\n",
    "import pandas as pd\n",
    "import matplotlib.pyplot as plt\n",
    "import seaborn as sns\n",
    "import numpy as np\n",
    "from scipy.stats import pearsonr, spearmanr\n",
    "from vaderSentiment.vaderSentiment import SentimentIntensityAnalyzer"
   ]
  },
  {
   "cell_type": "code",
   "execution_count": 2,
   "id": "38995906-3c73-44aa-b699-78f2920a14da",
   "metadata": {},
   "outputs": [
    {
     "data": {
      "text/html": [
       "<div>\n",
       "<style scoped>\n",
       "    .dataframe tbody tr th:only-of-type {\n",
       "        vertical-align: middle;\n",
       "    }\n",
       "\n",
       "    .dataframe tbody tr th {\n",
       "        vertical-align: top;\n",
       "    }\n",
       "\n",
       "    .dataframe thead th {\n",
       "        text-align: right;\n",
       "    }\n",
       "</style>\n",
       "<table border=\"1\" class=\"dataframe\">\n",
       "  <thead>\n",
       "    <tr style=\"text-align: right;\">\n",
       "      <th></th>\n",
       "      <th>product_id</th>\n",
       "      <th>product_name</th>\n",
       "      <th>category</th>\n",
       "      <th>discounted_price</th>\n",
       "      <th>actual_price</th>\n",
       "      <th>discount_percentage</th>\n",
       "      <th>rating</th>\n",
       "      <th>rating_count</th>\n",
       "      <th>about_product</th>\n",
       "      <th>user_id</th>\n",
       "      <th>user_name</th>\n",
       "      <th>review_id</th>\n",
       "      <th>review_title</th>\n",
       "      <th>review_content</th>\n",
       "      <th>img_link</th>\n",
       "      <th>product_link</th>\n",
       "    </tr>\n",
       "  </thead>\n",
       "  <tbody>\n",
       "    <tr>\n",
       "      <th>0</th>\n",
       "      <td>B07JW9H4J1</td>\n",
       "      <td>Wayona Nylon Braided USB to Lightning Fast Cha...</td>\n",
       "      <td>Computers&amp;Accessories|Accessories&amp;Peripherals|...</td>\n",
       "      <td>₹399</td>\n",
       "      <td>₹1,099</td>\n",
       "      <td>64%</td>\n",
       "      <td>4.2</td>\n",
       "      <td>24,269</td>\n",
       "      <td>High Compatibility : Compatible With iPhone 12...</td>\n",
       "      <td>AG3D6O4STAQKAY2UVGEUV46KN35Q,AHMY5CWJMMK5BJRBB...</td>\n",
       "      <td>Manav,Adarsh gupta,Sundeep,S.Sayeed Ahmed,jasp...</td>\n",
       "      <td>R3HXWT0LRP0NMF,R2AJM3LFTLZHFO,R6AQJGUP6P86,R1K...</td>\n",
       "      <td>Satisfied,Charging is really fast,Value for mo...</td>\n",
       "      <td>Looks durable Charging is fine tooNo complains...</td>\n",
       "      <td>https://m.media-amazon.com/images/W/WEBP_40237...</td>\n",
       "      <td>https://www.amazon.in/Wayona-Braided-WN3LG1-Sy...</td>\n",
       "    </tr>\n",
       "    <tr>\n",
       "      <th>1</th>\n",
       "      <td>B098NS6PVG</td>\n",
       "      <td>Ambrane Unbreakable 60W / 3A Fast Charging 1.5...</td>\n",
       "      <td>Computers&amp;Accessories|Accessories&amp;Peripherals|...</td>\n",
       "      <td>₹199</td>\n",
       "      <td>₹349</td>\n",
       "      <td>43%</td>\n",
       "      <td>4.0</td>\n",
       "      <td>43,994</td>\n",
       "      <td>Compatible with all Type C enabled devices, be...</td>\n",
       "      <td>AECPFYFQVRUWC3KGNLJIOREFP5LQ,AGYYVPDD7YG7FYNBX...</td>\n",
       "      <td>ArdKn,Nirbhay kumar,Sagar Viswanathan,Asp,Plac...</td>\n",
       "      <td>RGIQEG07R9HS2,R1SMWZQ86XIN8U,R2J3Y1WL29GWDE,RY...</td>\n",
       "      <td>A Good Braided Cable for Your Type C Device,Go...</td>\n",
       "      <td>I ordered this cable to connect my phone to An...</td>\n",
       "      <td>https://m.media-amazon.com/images/W/WEBP_40237...</td>\n",
       "      <td>https://www.amazon.in/Ambrane-Unbreakable-Char...</td>\n",
       "    </tr>\n",
       "    <tr>\n",
       "      <th>2</th>\n",
       "      <td>B096MSW6CT</td>\n",
       "      <td>Sounce Fast Phone Charging Cable &amp; Data Sync U...</td>\n",
       "      <td>Computers&amp;Accessories|Accessories&amp;Peripherals|...</td>\n",
       "      <td>₹199</td>\n",
       "      <td>₹1,899</td>\n",
       "      <td>90%</td>\n",
       "      <td>3.9</td>\n",
       "      <td>7,928</td>\n",
       "      <td>【 Fast Charger&amp; Data Sync】-With built-in safet...</td>\n",
       "      <td>AGU3BBQ2V2DDAMOAKGFAWDDQ6QHA,AESFLDV2PT363T2AQ...</td>\n",
       "      <td>Kunal,Himanshu,viswanath,sai niharka,saqib mal...</td>\n",
       "      <td>R3J3EQQ9TZI5ZJ,R3E7WBGK7ID0KV,RWU79XKQ6I1QF,R2...</td>\n",
       "      <td>Good speed for earlier versions,Good Product,W...</td>\n",
       "      <td>Not quite durable and sturdy,https://m.media-a...</td>\n",
       "      <td>https://m.media-amazon.com/images/W/WEBP_40237...</td>\n",
       "      <td>https://www.amazon.in/Sounce-iPhone-Charging-C...</td>\n",
       "    </tr>\n",
       "    <tr>\n",
       "      <th>3</th>\n",
       "      <td>B08HDJ86NZ</td>\n",
       "      <td>boAt Deuce USB 300 2 in 1 Type-C &amp; Micro USB S...</td>\n",
       "      <td>Computers&amp;Accessories|Accessories&amp;Peripherals|...</td>\n",
       "      <td>₹329</td>\n",
       "      <td>₹699</td>\n",
       "      <td>53%</td>\n",
       "      <td>4.2</td>\n",
       "      <td>94,363</td>\n",
       "      <td>The boAt Deuce USB 300 2 in 1 cable is compati...</td>\n",
       "      <td>AEWAZDZZJLQUYVOVGBEUKSLXHQ5A,AG5HTSFRRE6NL3M5S...</td>\n",
       "      <td>Omkar dhale,JD,HEMALATHA,Ajwadh a.,amar singh ...</td>\n",
       "      <td>R3EEUZKKK9J36I,R3HJVYCLYOY554,REDECAZ7AMPQC,R1...</td>\n",
       "      <td>Good product,Good one,Nice,Really nice product...</td>\n",
       "      <td>Good product,long wire,Charges good,Nice,I bou...</td>\n",
       "      <td>https://m.media-amazon.com/images/I/41V5FtEWPk...</td>\n",
       "      <td>https://www.amazon.in/Deuce-300-Resistant-Tang...</td>\n",
       "    </tr>\n",
       "    <tr>\n",
       "      <th>4</th>\n",
       "      <td>B08CF3B7N1</td>\n",
       "      <td>Portronics Konnect L 1.2M Fast Charging 3A 8 P...</td>\n",
       "      <td>Computers&amp;Accessories|Accessories&amp;Peripherals|...</td>\n",
       "      <td>₹154</td>\n",
       "      <td>₹399</td>\n",
       "      <td>61%</td>\n",
       "      <td>4.2</td>\n",
       "      <td>16,905</td>\n",
       "      <td>[CHARGE &amp; SYNC FUNCTION]- This cable comes wit...</td>\n",
       "      <td>AE3Q6KSUK5P75D5HFYHCRAOLODSA,AFUGIFH5ZAFXRDSZH...</td>\n",
       "      <td>rahuls6099,Swasat Borah,Ajay Wadke,Pranali,RVK...</td>\n",
       "      <td>R1BP4L2HH9TFUP,R16PVJEXKV6QZS,R2UPDB81N66T4P,R...</td>\n",
       "      <td>As good as original,Decent,Good one for second...</td>\n",
       "      <td>Bought this instead of original apple, does th...</td>\n",
       "      <td>https://m.media-amazon.com/images/W/WEBP_40237...</td>\n",
       "      <td>https://www.amazon.in/Portronics-Konnect-POR-1...</td>\n",
       "    </tr>\n",
       "  </tbody>\n",
       "</table>\n",
       "</div>"
      ],
      "text/plain": [
       "   product_id                                       product_name  \\\n",
       "0  B07JW9H4J1  Wayona Nylon Braided USB to Lightning Fast Cha...   \n",
       "1  B098NS6PVG  Ambrane Unbreakable 60W / 3A Fast Charging 1.5...   \n",
       "2  B096MSW6CT  Sounce Fast Phone Charging Cable & Data Sync U...   \n",
       "3  B08HDJ86NZ  boAt Deuce USB 300 2 in 1 Type-C & Micro USB S...   \n",
       "4  B08CF3B7N1  Portronics Konnect L 1.2M Fast Charging 3A 8 P...   \n",
       "\n",
       "                                            category discounted_price  \\\n",
       "0  Computers&Accessories|Accessories&Peripherals|...             ₹399   \n",
       "1  Computers&Accessories|Accessories&Peripherals|...             ₹199   \n",
       "2  Computers&Accessories|Accessories&Peripherals|...             ₹199   \n",
       "3  Computers&Accessories|Accessories&Peripherals|...             ₹329   \n",
       "4  Computers&Accessories|Accessories&Peripherals|...             ₹154   \n",
       "\n",
       "  actual_price discount_percentage rating rating_count  \\\n",
       "0       ₹1,099                 64%    4.2       24,269   \n",
       "1         ₹349                 43%    4.0       43,994   \n",
       "2       ₹1,899                 90%    3.9        7,928   \n",
       "3         ₹699                 53%    4.2       94,363   \n",
       "4         ₹399                 61%    4.2       16,905   \n",
       "\n",
       "                                       about_product  \\\n",
       "0  High Compatibility : Compatible With iPhone 12...   \n",
       "1  Compatible with all Type C enabled devices, be...   \n",
       "2  【 Fast Charger& Data Sync】-With built-in safet...   \n",
       "3  The boAt Deuce USB 300 2 in 1 cable is compati...   \n",
       "4  [CHARGE & SYNC FUNCTION]- This cable comes wit...   \n",
       "\n",
       "                                             user_id  \\\n",
       "0  AG3D6O4STAQKAY2UVGEUV46KN35Q,AHMY5CWJMMK5BJRBB...   \n",
       "1  AECPFYFQVRUWC3KGNLJIOREFP5LQ,AGYYVPDD7YG7FYNBX...   \n",
       "2  AGU3BBQ2V2DDAMOAKGFAWDDQ6QHA,AESFLDV2PT363T2AQ...   \n",
       "3  AEWAZDZZJLQUYVOVGBEUKSLXHQ5A,AG5HTSFRRE6NL3M5S...   \n",
       "4  AE3Q6KSUK5P75D5HFYHCRAOLODSA,AFUGIFH5ZAFXRDSZH...   \n",
       "\n",
       "                                           user_name  \\\n",
       "0  Manav,Adarsh gupta,Sundeep,S.Sayeed Ahmed,jasp...   \n",
       "1  ArdKn,Nirbhay kumar,Sagar Viswanathan,Asp,Plac...   \n",
       "2  Kunal,Himanshu,viswanath,sai niharka,saqib mal...   \n",
       "3  Omkar dhale,JD,HEMALATHA,Ajwadh a.,amar singh ...   \n",
       "4  rahuls6099,Swasat Borah,Ajay Wadke,Pranali,RVK...   \n",
       "\n",
       "                                           review_id  \\\n",
       "0  R3HXWT0LRP0NMF,R2AJM3LFTLZHFO,R6AQJGUP6P86,R1K...   \n",
       "1  RGIQEG07R9HS2,R1SMWZQ86XIN8U,R2J3Y1WL29GWDE,RY...   \n",
       "2  R3J3EQQ9TZI5ZJ,R3E7WBGK7ID0KV,RWU79XKQ6I1QF,R2...   \n",
       "3  R3EEUZKKK9J36I,R3HJVYCLYOY554,REDECAZ7AMPQC,R1...   \n",
       "4  R1BP4L2HH9TFUP,R16PVJEXKV6QZS,R2UPDB81N66T4P,R...   \n",
       "\n",
       "                                        review_title  \\\n",
       "0  Satisfied,Charging is really fast,Value for mo...   \n",
       "1  A Good Braided Cable for Your Type C Device,Go...   \n",
       "2  Good speed for earlier versions,Good Product,W...   \n",
       "3  Good product,Good one,Nice,Really nice product...   \n",
       "4  As good as original,Decent,Good one for second...   \n",
       "\n",
       "                                      review_content  \\\n",
       "0  Looks durable Charging is fine tooNo complains...   \n",
       "1  I ordered this cable to connect my phone to An...   \n",
       "2  Not quite durable and sturdy,https://m.media-a...   \n",
       "3  Good product,long wire,Charges good,Nice,I bou...   \n",
       "4  Bought this instead of original apple, does th...   \n",
       "\n",
       "                                            img_link  \\\n",
       "0  https://m.media-amazon.com/images/W/WEBP_40237...   \n",
       "1  https://m.media-amazon.com/images/W/WEBP_40237...   \n",
       "2  https://m.media-amazon.com/images/W/WEBP_40237...   \n",
       "3  https://m.media-amazon.com/images/I/41V5FtEWPk...   \n",
       "4  https://m.media-amazon.com/images/W/WEBP_40237...   \n",
       "\n",
       "                                        product_link  \n",
       "0  https://www.amazon.in/Wayona-Braided-WN3LG1-Sy...  \n",
       "1  https://www.amazon.in/Ambrane-Unbreakable-Char...  \n",
       "2  https://www.amazon.in/Sounce-iPhone-Charging-C...  \n",
       "3  https://www.amazon.in/Deuce-300-Resistant-Tang...  \n",
       "4  https://www.amazon.in/Portronics-Konnect-POR-1...  "
      ]
     },
     "execution_count": 2,
     "metadata": {},
     "output_type": "execute_result"
    }
   ],
   "source": [
    "original_amazon_dataset = pd.read_csv(\"amazon.csv\")\n",
    "original_amazon_dataset.head()"
   ]
  },
  {
   "cell_type": "code",
   "execution_count": 3,
   "id": "1253a092-3581-42c7-b864-6f9b2ec24468",
   "metadata": {},
   "outputs": [
    {
     "name": "stdout",
     "output_type": "stream",
     "text": [
      "<class 'pandas.core.frame.DataFrame'>\n",
      "RangeIndex: 1465 entries, 0 to 1464\n",
      "Data columns (total 16 columns):\n",
      " #   Column               Non-Null Count  Dtype \n",
      "---  ------               --------------  ----- \n",
      " 0   product_id           1465 non-null   object\n",
      " 1   product_name         1465 non-null   object\n",
      " 2   category             1465 non-null   object\n",
      " 3   discounted_price     1465 non-null   object\n",
      " 4   actual_price         1465 non-null   object\n",
      " 5   discount_percentage  1465 non-null   object\n",
      " 6   rating               1465 non-null   object\n",
      " 7   rating_count         1463 non-null   object\n",
      " 8   about_product        1465 non-null   object\n",
      " 9   user_id              1465 non-null   object\n",
      " 10  user_name            1465 non-null   object\n",
      " 11  review_id            1465 non-null   object\n",
      " 12  review_title         1465 non-null   object\n",
      " 13  review_content       1465 non-null   object\n",
      " 14  img_link             1465 non-null   object\n",
      " 15  product_link         1465 non-null   object\n",
      "dtypes: object(16)\n",
      "memory usage: 183.3+ KB\n"
     ]
    }
   ],
   "source": [
    "original_amazon_dataset.info()"
   ]
  },
  {
   "cell_type": "code",
   "execution_count": 4,
   "id": "5348923e-4304-4180-bcf3-62f52a7f46d9",
   "metadata": {},
   "outputs": [
    {
     "data": {
      "text/html": [
       "<div>\n",
       "<style scoped>\n",
       "    .dataframe tbody tr th:only-of-type {\n",
       "        vertical-align: middle;\n",
       "    }\n",
       "\n",
       "    .dataframe tbody tr th {\n",
       "        vertical-align: top;\n",
       "    }\n",
       "\n",
       "    .dataframe thead th {\n",
       "        text-align: right;\n",
       "    }\n",
       "</style>\n",
       "<table border=\"1\" class=\"dataframe\">\n",
       "  <thead>\n",
       "    <tr style=\"text-align: right;\">\n",
       "      <th></th>\n",
       "      <th>product_id</th>\n",
       "      <th>product_name</th>\n",
       "      <th>category</th>\n",
       "      <th>discounted_price</th>\n",
       "      <th>actual_price</th>\n",
       "      <th>discount_percentage</th>\n",
       "      <th>rating</th>\n",
       "      <th>rating_count</th>\n",
       "      <th>about_product</th>\n",
       "      <th>user_id</th>\n",
       "      <th>user_name</th>\n",
       "      <th>review_id</th>\n",
       "      <th>review_title</th>\n",
       "      <th>review_content</th>\n",
       "      <th>img_link</th>\n",
       "      <th>product_link</th>\n",
       "    </tr>\n",
       "  </thead>\n",
       "  <tbody>\n",
       "    <tr>\n",
       "      <th>count</th>\n",
       "      <td>1465</td>\n",
       "      <td>1465</td>\n",
       "      <td>1465</td>\n",
       "      <td>1465</td>\n",
       "      <td>1465</td>\n",
       "      <td>1465</td>\n",
       "      <td>1465</td>\n",
       "      <td>1463</td>\n",
       "      <td>1465</td>\n",
       "      <td>1465</td>\n",
       "      <td>1465</td>\n",
       "      <td>1465</td>\n",
       "      <td>1465</td>\n",
       "      <td>1465</td>\n",
       "      <td>1465</td>\n",
       "      <td>1465</td>\n",
       "    </tr>\n",
       "    <tr>\n",
       "      <th>unique</th>\n",
       "      <td>1351</td>\n",
       "      <td>1337</td>\n",
       "      <td>211</td>\n",
       "      <td>550</td>\n",
       "      <td>449</td>\n",
       "      <td>92</td>\n",
       "      <td>28</td>\n",
       "      <td>1143</td>\n",
       "      <td>1293</td>\n",
       "      <td>1194</td>\n",
       "      <td>1194</td>\n",
       "      <td>1194</td>\n",
       "      <td>1194</td>\n",
       "      <td>1212</td>\n",
       "      <td>1412</td>\n",
       "      <td>1465</td>\n",
       "    </tr>\n",
       "    <tr>\n",
       "      <th>top</th>\n",
       "      <td>B08WRWPM22</td>\n",
       "      <td>Fire-Boltt Ninja Call Pro Plus 1.83\" Smart Wat...</td>\n",
       "      <td>Computers&amp;Accessories|Accessories&amp;Peripherals|...</td>\n",
       "      <td>₹199</td>\n",
       "      <td>₹999</td>\n",
       "      <td>50%</td>\n",
       "      <td>4.1</td>\n",
       "      <td>9,378</td>\n",
       "      <td>[CHARGE &amp; SYNC FUNCTION]- This cable comes wit...</td>\n",
       "      <td>AHIKJUDTVJ4T6DV6IUGFYZ5LXMPA,AE55KTFVNXYFD5FPY...</td>\n",
       "      <td>$@|\\|TO$|-|,Sethu madhav,Akash Thakur,Burger P...</td>\n",
       "      <td>R3F4T5TRYPTMIG,R3DQIEC603E7AY,R1O4Z15FD40PV5,R...</td>\n",
       "      <td>Worked on iPhone 7 and didn’t work on XR,Good ...</td>\n",
       "      <td>I am not big on camera usage, personally. I wa...</td>\n",
       "      <td>https://m.media-amazon.com/images/I/413sCRKobN...</td>\n",
       "      <td>https://www.amazon.in/Borosil-Jumbo-1000-Watt-...</td>\n",
       "    </tr>\n",
       "    <tr>\n",
       "      <th>freq</th>\n",
       "      <td>3</td>\n",
       "      <td>5</td>\n",
       "      <td>233</td>\n",
       "      <td>53</td>\n",
       "      <td>120</td>\n",
       "      <td>56</td>\n",
       "      <td>244</td>\n",
       "      <td>9</td>\n",
       "      <td>6</td>\n",
       "      <td>10</td>\n",
       "      <td>10</td>\n",
       "      <td>10</td>\n",
       "      <td>10</td>\n",
       "      <td>8</td>\n",
       "      <td>3</td>\n",
       "      <td>1</td>\n",
       "    </tr>\n",
       "  </tbody>\n",
       "</table>\n",
       "</div>"
      ],
      "text/plain": [
       "        product_id                                       product_name  \\\n",
       "count         1465                                               1465   \n",
       "unique        1351                                               1337   \n",
       "top     B08WRWPM22  Fire-Boltt Ninja Call Pro Plus 1.83\" Smart Wat...   \n",
       "freq             3                                                  5   \n",
       "\n",
       "                                                 category discounted_price  \\\n",
       "count                                                1465             1465   \n",
       "unique                                                211              550   \n",
       "top     Computers&Accessories|Accessories&Peripherals|...             ₹199   \n",
       "freq                                                  233               53   \n",
       "\n",
       "       actual_price discount_percentage rating rating_count  \\\n",
       "count          1465                1465   1465         1463   \n",
       "unique          449                  92     28         1143   \n",
       "top            ₹999                 50%    4.1        9,378   \n",
       "freq            120                  56    244            9   \n",
       "\n",
       "                                            about_product  \\\n",
       "count                                                1465   \n",
       "unique                                               1293   \n",
       "top     [CHARGE & SYNC FUNCTION]- This cable comes wit...   \n",
       "freq                                                    6   \n",
       "\n",
       "                                                  user_id  \\\n",
       "count                                                1465   \n",
       "unique                                               1194   \n",
       "top     AHIKJUDTVJ4T6DV6IUGFYZ5LXMPA,AE55KTFVNXYFD5FPY...   \n",
       "freq                                                   10   \n",
       "\n",
       "                                                user_name  \\\n",
       "count                                                1465   \n",
       "unique                                               1194   \n",
       "top     $@|\\|TO$|-|,Sethu madhav,Akash Thakur,Burger P...   \n",
       "freq                                                   10   \n",
       "\n",
       "                                                review_id  \\\n",
       "count                                                1465   \n",
       "unique                                               1194   \n",
       "top     R3F4T5TRYPTMIG,R3DQIEC603E7AY,R1O4Z15FD40PV5,R...   \n",
       "freq                                                   10   \n",
       "\n",
       "                                             review_title  \\\n",
       "count                                                1465   \n",
       "unique                                               1194   \n",
       "top     Worked on iPhone 7 and didn’t work on XR,Good ...   \n",
       "freq                                                   10   \n",
       "\n",
       "                                           review_content  \\\n",
       "count                                                1465   \n",
       "unique                                               1212   \n",
       "top     I am not big on camera usage, personally. I wa...   \n",
       "freq                                                    8   \n",
       "\n",
       "                                                 img_link  \\\n",
       "count                                                1465   \n",
       "unique                                               1412   \n",
       "top     https://m.media-amazon.com/images/I/413sCRKobN...   \n",
       "freq                                                    3   \n",
       "\n",
       "                                             product_link  \n",
       "count                                                1465  \n",
       "unique                                               1465  \n",
       "top     https://www.amazon.in/Borosil-Jumbo-1000-Watt-...  \n",
       "freq                                                    1  "
      ]
     },
     "execution_count": 4,
     "metadata": {},
     "output_type": "execute_result"
    }
   ],
   "source": [
    "original_amazon_dataset.describe()"
   ]
  },
  {
   "cell_type": "markdown",
   "id": "994bb4a7-66b0-46b3-a8da-25c1b35416b7",
   "metadata": {},
   "source": [
    "Part 1 Discussion:\n",
    "\n",
    "In part 1, I used various methods from the Pandas library to conduct my analysis of the Amazon Sales Dataset. I found that the dataset consisted of 16 columns, 1,465 rows, and 0 null values. Further analysis revealed that all columns were strings; however, the column names and values suggested some columns should be converted to floats or integers.\n",
    "\n",
    "The column names and their significance are as follows:\n",
    "\n",
    "* **product_id** - product ID\n",
    "* **product_name** - name of the product\n",
    "* **category** - category of the product\n",
    "* **discounted_price** - discounted price of the product\n",
    "* **actual_price** - actual price of the product\n",
    "* **discount_percentage** - percentage of piscount for the product\n",
    "* **rating** - rating of the product, using a standard range of 1-5\n",
    "* **rating_count** - number of people who voted for the Amazon rating\n",
    "* **about_product** - description about the product\n",
    "* **user_id** - ID of the user who wrote review for the product\n",
    "* **user_name** - name of the user who wrote review for the product\n",
    "* **review_id** - ID of the user review\n",
    "* **review_title** - short review\n",
    "* **review_content** - long review\n",
    "* **img_link** - image link of the product\n",
    "* **product_link** - official website link of the product\n",
    "\n",
    "Based on the summary, the following columns should be converted during the data cleaning phase of this project:\n",
    "* discount_percentage\n",
    "* discounted_price\n",
    "* rating\n",
    "* rating_count"
   ]
  },
  {
   "cell_type": "markdown",
   "id": "30d026a4-42b0-414f-8034-d3032497025b",
   "metadata": {},
   "source": [
    "## Step 2: Cleaning the data"
   ]
  },
  {
   "cell_type": "code",
   "execution_count": 5,
   "id": "981eec3f-24f0-4eaf-8a0b-66a8124129e6",
   "metadata": {},
   "outputs": [],
   "source": [
    "# removing the % from all records in the discount_percentage column\n",
    "# converting the column from string data type to float\n",
    "original_amazon_dataset['discount_percentage'] = original_amazon_dataset['discount_percentage'].str.replace(\"%\", \"\").astype(float)"
   ]
  },
  {
   "cell_type": "code",
   "execution_count": 6,
   "id": "63aa7c39-a595-4674-867c-ca0de036194f",
   "metadata": {},
   "outputs": [
    {
     "name": "stdout",
     "output_type": "stream",
     "text": [
      "float64\n"
     ]
    }
   ],
   "source": [
    "print(original_amazon_dataset['discount_percentage'].dtype)"
   ]
  },
  {
   "cell_type": "code",
   "execution_count": 7,
   "id": "133d08c1-e3fb-4e0c-a719-4c9dc4a443b7",
   "metadata": {},
   "outputs": [],
   "source": [
    "# removing the currency symbol from all records in the discounted_price column \n",
    "original_amazon_dataset['discounted_price'] = original_amazon_dataset['discounted_price'].str.replace(r'[₹,]', \"\", regex=True).astype(float)"
   ]
  },
  {
   "cell_type": "code",
   "execution_count": 8,
   "id": "8a98a0a4-626c-4873-ace0-87c14ccc5f8a",
   "metadata": {},
   "outputs": [
    {
     "name": "stdout",
     "output_type": "stream",
     "text": [
      "float64\n"
     ]
    }
   ],
   "source": [
    "print(original_amazon_dataset['discounted_price'].dtype)"
   ]
  },
  {
   "cell_type": "code",
   "execution_count": 9,
   "id": "8bd23189-9345-485f-a1e4-c99a8e721edd",
   "metadata": {},
   "outputs": [],
   "source": [
    "# removing the currency symbol from all records in the actual_price column \n",
    "original_amazon_dataset['actual_price'] = original_amazon_dataset['actual_price'].str.replace(r'[₹,]', \"\", regex=True).astype(float)"
   ]
  },
  {
   "cell_type": "code",
   "execution_count": 10,
   "id": "8cad5423-35f5-47d8-8d0d-ed25ed4f3d63",
   "metadata": {},
   "outputs": [
    {
     "name": "stdout",
     "output_type": "stream",
     "text": [
      "float64\n"
     ]
    }
   ],
   "source": [
    "print(original_amazon_dataset['actual_price'].dtype)"
   ]
  },
  {
   "cell_type": "code",
   "execution_count": 11,
   "id": "e02274f9-70da-403f-a402-fcbef1151476",
   "metadata": {},
   "outputs": [
    {
     "data": {
      "text/plain": [
       "array(['4.2', '4.0', '3.9', '4.1', '4.3', '4.4', '4.5', '3.7', '3.3',\n",
       "       '3.6', '3.4', '3.8', '3.5', '4.6', '3.2', '5.0', '4.7', '3.0',\n",
       "       '2.8', '4', '3.1', '4.8', '2.3', '|', '2', '3', '2.6', '2.9'],\n",
       "      dtype=object)"
      ]
     },
     "execution_count": 11,
     "metadata": {},
     "output_type": "execute_result"
    }
   ],
   "source": [
    "original_amazon_dataset['rating'].unique()"
   ]
  },
  {
   "cell_type": "code",
   "execution_count": 12,
   "id": "a5f40691-6566-4412-b6bd-32bb2b82b0dd",
   "metadata": {},
   "outputs": [
    {
     "name": "stderr",
     "output_type": "stream",
     "text": [
      "/var/folders/z8/k_38h5950zvflgczl0bx3g2r0000gn/T/ipykernel_11268/3057140121.py:1: FutureWarning: A value is trying to be set on a copy of a DataFrame or Series through chained assignment using an inplace method.\n",
      "The behavior will change in pandas 3.0. This inplace method will never work because the intermediate object on which we are setting values always behaves as a copy.\n",
      "\n",
      "For example, when doing 'df[col].method(value, inplace=True)', try using 'df.method({col: value}, inplace=True)' or df[col] = df[col].method(value) instead, to perform the operation inplace on the original object.\n",
      "\n",
      "\n",
      "  original_amazon_dataset['rating'].replace('|', np.nan, inplace=True)\n"
     ]
    },
    {
     "data": {
      "text/plain": [
       "array(['4.2', '4.0', '3.9', '4.1', '4.3', '4.4', '4.5', '3.7', '3.3',\n",
       "       '3.6', '3.4', '3.8', '3.5', '4.6', '3.2', '5.0', '4.7', '3.0',\n",
       "       '2.8', '4', '3.1', '4.8', '2.3', nan, '2', '3', '2.6', '2.9'],\n",
       "      dtype=object)"
      ]
     },
     "execution_count": 12,
     "metadata": {},
     "output_type": "execute_result"
    }
   ],
   "source": [
    "original_amazon_dataset['rating'].replace('|', np.nan, inplace=True)\n",
    "original_amazon_dataset['rating'].unique()"
   ]
  },
  {
   "cell_type": "code",
   "execution_count": 13,
   "id": "6f2f2071-f6fd-47c5-a554-1a9d67b399f2",
   "metadata": {},
   "outputs": [
    {
     "name": "stdout",
     "output_type": "stream",
     "text": [
      "1\n"
     ]
    }
   ],
   "source": [
    "rating_sum_nulls = original_amazon_dataset['rating'].isnull().sum()\n",
    "print(rating_sum_nulls)"
   ]
  },
  {
   "cell_type": "code",
   "execution_count": 14,
   "id": "64b5d7ec-4569-4ace-a8b7-52005307289c",
   "metadata": {},
   "outputs": [],
   "source": [
    "original_amazon_dataset['rating'].dropna(inplace=True)"
   ]
  },
  {
   "cell_type": "code",
   "execution_count": 15,
   "id": "4bdedd5e-4943-4cb4-a10e-15a8e3028841",
   "metadata": {},
   "outputs": [],
   "source": [
    "original_amazon_dataset['rating'] = original_amazon_dataset['rating'].str.replace(',',\"\").astype(float)"
   ]
  },
  {
   "cell_type": "code",
   "execution_count": 16,
   "id": "f28c8d15-115f-45ad-8d09-14ebf8f860d1",
   "metadata": {},
   "outputs": [],
   "source": [
    "original_amazon_dataset['rating_count'] = original_amazon_dataset['rating_count'].str.replace(',', \"\").astype(float)"
   ]
  },
  {
   "cell_type": "code",
   "execution_count": 17,
   "id": "4bc69a53-9555-4711-837c-3864759ba548",
   "metadata": {},
   "outputs": [
    {
     "name": "stdout",
     "output_type": "stream",
     "text": [
      "float64\n"
     ]
    }
   ],
   "source": [
    "print(original_amazon_dataset['rating_count'].dtype)"
   ]
  },
  {
   "cell_type": "code",
   "execution_count": 18,
   "id": "b0671ad5-a175-4d15-87bf-2830973e94b9",
   "metadata": {},
   "outputs": [
    {
     "name": "stdout",
     "output_type": "stream",
     "text": [
      "<class 'pandas.core.frame.DataFrame'>\n",
      "RangeIndex: 1465 entries, 0 to 1464\n",
      "Data columns (total 16 columns):\n",
      " #   Column               Non-Null Count  Dtype  \n",
      "---  ------               --------------  -----  \n",
      " 0   product_id           1465 non-null   object \n",
      " 1   product_name         1465 non-null   object \n",
      " 2   category             1465 non-null   object \n",
      " 3   discounted_price     1465 non-null   float64\n",
      " 4   actual_price         1465 non-null   float64\n",
      " 5   discount_percentage  1465 non-null   float64\n",
      " 6   rating               1464 non-null   float64\n",
      " 7   rating_count         1463 non-null   float64\n",
      " 8   about_product        1465 non-null   object \n",
      " 9   user_id              1465 non-null   object \n",
      " 10  user_name            1465 non-null   object \n",
      " 11  review_id            1465 non-null   object \n",
      " 12  review_title         1465 non-null   object \n",
      " 13  review_content       1465 non-null   object \n",
      " 14  img_link             1465 non-null   object \n",
      " 15  product_link         1465 non-null   object \n",
      "dtypes: float64(5), object(11)\n",
      "memory usage: 183.3+ KB\n"
     ]
    }
   ],
   "source": [
    "#reviewing the dataset after cleaning has been performed\n",
    "\n",
    "original_amazon_dataset.info()"
   ]
  },
  {
   "cell_type": "markdown",
   "id": "e1c56146-211c-40d2-b8f6-259a8c6207ae",
   "metadata": {},
   "source": [
    "Next, I considered additional issues with the data that should be cleaned before implementing code to answer the research question. The issues to be adressed include:\n",
    "\n",
    "1. Confirm there are no duplicate reviews (same user & product)\n",
    "2. Confirm category names are concise and consistent. For example, if there are categories like  like \"Household Items\" and \"Home\", these could be consolidated. This will make it easier to determine the product categories that have inconsistent sentiment later in the project. There also shouldn't be lists of categories.\n",
    "3. Ensure there are no missing values in the rating column. This will prevent issues when performing the Pearson and Spearman tests."
   ]
  },
  {
   "cell_type": "code",
   "execution_count": 19,
   "id": "ce5799c1-3819-463e-8c99-6e675864fd8e",
   "metadata": {},
   "outputs": [],
   "source": [
    "duplicate_reviews = original_amazon_dataset.duplicated(subset=['product_id', 'user_id'], keep=False)"
   ]
  },
  {
   "cell_type": "code",
   "execution_count": 20,
   "id": "6c62954f-344f-44aa-b387-d5588c6fcad6",
   "metadata": {},
   "outputs": [
    {
     "name": "stdout",
     "output_type": "stream",
     "text": [
      "      product_id                                       product_name  \\\n",
      "0     B07JW9H4J1  Wayona Nylon Braided USB to Lightning Fast Cha...   \n",
      "1     B098NS6PVG  Ambrane Unbreakable 60W / 3A Fast Charging 1.5...   \n",
      "2     B096MSW6CT  Sounce Fast Phone Charging Cable & Data Sync U...   \n",
      "3     B08HDJ86NZ  boAt Deuce USB 300 2 in 1 Type-C & Micro USB S...   \n",
      "4     B08CF3B7N1  Portronics Konnect L 1.2M Fast Charging 3A 8 P...   \n",
      "...          ...                                                ...   \n",
      "1007  B0B9BXKBC7  WeCool S5 Long Selfie Stick, with Large Reinfo...   \n",
      "1010  B07GVGTSLN  Wayona Usb Type C Fast Charger Cable Fast Char...   \n",
      "1017  B0B9BD2YL4  KINGONE Wireless Charging Pencil (2nd Generati...   \n",
      "1018  B0BMXMLSMM  Lapster 65W compatible for OnePlus Dash Warp C...   \n",
      "1019  B0141EZMAI  Gizga Essentials USB WiFi Adapter for PC, 150 ...   \n",
      "\n",
      "                                               category  discounted_price  \\\n",
      "0     Computers&Accessories|Accessories&Peripherals|...             399.0   \n",
      "1     Computers&Accessories|Accessories&Peripherals|...             199.0   \n",
      "2     Computers&Accessories|Accessories&Peripherals|...             199.0   \n",
      "3     Computers&Accessories|Accessories&Peripherals|...             329.0   \n",
      "4     Computers&Accessories|Accessories&Peripherals|...             154.0   \n",
      "...                                                 ...               ...   \n",
      "1007  Electronics|Mobiles&Accessories|MobileAccessor...            1799.0   \n",
      "1010  Computers&Accessories|Accessories&Peripherals|...             325.0   \n",
      "1017  Electronics|Mobiles&Accessories|MobileAccessor...            2599.0   \n",
      "1018  Computers&Accessories|Accessories&Peripherals|...             199.0   \n",
      "1019  Computers&Accessories|NetworkingDevices|Networ...             269.0   \n",
      "\n",
      "      actual_price  discount_percentage  rating  rating_count  \\\n",
      "0           1099.0                 64.0     4.2       24269.0   \n",
      "1            349.0                 43.0     4.0       43994.0   \n",
      "2           1899.0                 90.0     3.9        7928.0   \n",
      "3            699.0                 53.0     4.2       94363.0   \n",
      "4            399.0                 61.0     4.2       16905.0   \n",
      "...            ...                  ...     ...           ...   \n",
      "1007        3999.0                 55.0     4.6         245.0   \n",
      "1010        1299.0                 75.0     4.2       10576.0   \n",
      "1017        6999.0                 63.0     4.5        1526.0   \n",
      "1018         999.0                 80.0     4.5         127.0   \n",
      "1019         800.0                 66.0     3.6       10134.0   \n",
      "\n",
      "                                          about_product  \\\n",
      "0     High Compatibility : Compatible With iPhone 12...   \n",
      "1     Compatible with all Type C enabled devices, be...   \n",
      "2     【 Fast Charger& Data Sync】-With built-in safet...   \n",
      "3     The boAt Deuce USB 300 2 in 1 cable is compati...   \n",
      "4     [CHARGE & SYNC FUNCTION]- This cable comes wit...   \n",
      "...                                                 ...   \n",
      "1007  64\" Tall Cell Phone Tripods with 7 section adj...   \n",
      "1010  Fast Charge & Data Sync: Fast charge& data tra...   \n",
      "1017  【2022 latest iPad Magnetic Charging】 The lates...   \n",
      "1018  -1 meter type c to c cable fast charging cable...   \n",
      "1019  USB WiFi Adapter: Fast wireless transmission a...   \n",
      "\n",
      "                                                user_id  \\\n",
      "0     AG3D6O4STAQKAY2UVGEUV46KN35Q,AHMY5CWJMMK5BJRBB...   \n",
      "1     AECPFYFQVRUWC3KGNLJIOREFP5LQ,AGYYVPDD7YG7FYNBX...   \n",
      "2     AGU3BBQ2V2DDAMOAKGFAWDDQ6QHA,AESFLDV2PT363T2AQ...   \n",
      "3     AEWAZDZZJLQUYVOVGBEUKSLXHQ5A,AG5HTSFRRE6NL3M5S...   \n",
      "4     AE3Q6KSUK5P75D5HFYHCRAOLODSA,AFUGIFH5ZAFXRDSZH...   \n",
      "...                                                 ...   \n",
      "1007  AFPYH3UF3GB4RNX3MX46AXFM2FTQ,AGWEQHJSUA4YCG44R...   \n",
      "1010  AEXK37TSBFHSP2TYE63YPKETWQ7Q,AEKMVX2VDNNX4ZFXI...   \n",
      "1017  AEAX7BRPDS3NSYCZQBQDL5DGZDVA,AFI76LT4UP2L3SFJM...   \n",
      "1018  AHFENRYJG4LPXDTUGEMG335VICSQ,AGSV37DJ5QTUYOXFJ...   \n",
      "1019  AGMJ6TDLOVZIR5ZU65TLJFSLG2BQ,AGPK7U5SHXBYBXEWB...   \n",
      "\n",
      "                                              user_name  \\\n",
      "0     Manav,Adarsh gupta,Sundeep,S.Sayeed Ahmed,jasp...   \n",
      "1     ArdKn,Nirbhay kumar,Sagar Viswanathan,Asp,Plac...   \n",
      "2     Kunal,Himanshu,viswanath,sai niharka,saqib mal...   \n",
      "3     Omkar dhale,JD,HEMALATHA,Ajwadh a.,amar singh ...   \n",
      "4     rahuls6099,Swasat Borah,Ajay Wadke,Pranali,RVK...   \n",
      "...                                                 ...   \n",
      "1007  Sujili v,Paras Jain,Shailendra,supreeth achar,...   \n",
      "1010  Sunil Funde,Biju Abraham Thomas,Samir,Rahul Sh...   \n",
      "1017  Ak,Jitesh,anil,Umpo,G'DAS ENTERPRISES,Neetu,Va...   \n",
      "1018  Nadhiyarasan,Saurabh Aggarwal,Dibya,Sai Sriya,...   \n",
      "1019  SQL,ARUN KUMAR,veer,Ravi shankar,Shivam Kumar,...   \n",
      "\n",
      "                                              review_id  \\\n",
      "0     R3HXWT0LRP0NMF,R2AJM3LFTLZHFO,R6AQJGUP6P86,R1K...   \n",
      "1     RGIQEG07R9HS2,R1SMWZQ86XIN8U,R2J3Y1WL29GWDE,RY...   \n",
      "2     R3J3EQQ9TZI5ZJ,R3E7WBGK7ID0KV,RWU79XKQ6I1QF,R2...   \n",
      "3     R3EEUZKKK9J36I,R3HJVYCLYOY554,REDECAZ7AMPQC,R1...   \n",
      "4     R1BP4L2HH9TFUP,R16PVJEXKV6QZS,R2UPDB81N66T4P,R...   \n",
      "...                                                 ...   \n",
      "1007  R2MI4KSWYUEMDR,R2MNYKDL2UII1M,R2C6TUBM6IVLB0,R...   \n",
      "1010  R10365HEDURWI9,R5RP542IMC4OI,RX2HFWXTTQDTS,R26...   \n",
      "1017  R1HOV97NOJFX4W,R3BIRU7WH404ND,RAU26U2KP1OQH,R1...   \n",
      "1018  R14ZOPYFHOYYRQ,R1GQH74NUCJZZ7,R1BNWIYBRSI1Z6,R...   \n",
      "1019  R3AZDEK3MQA3RA,RXF3HCCBWV0VB,R6CVYFDUXBS36,R1Q...   \n",
      "\n",
      "                                           review_title  \\\n",
      "0     Satisfied,Charging is really fast,Value for mo...   \n",
      "1     A Good Braided Cable for Your Type C Device,Go...   \n",
      "2     Good speed for earlier versions,Good Product,W...   \n",
      "3     Good product,Good one,Nice,Really nice product...   \n",
      "4     As good as original,Decent,Good one for second...   \n",
      "...                                                 ...   \n",
      "1007  Good,Good Product but Little expensive.,Happy ...   \n",
      "1010  Nice product .,Good quality Braided cable, VFM...   \n",
      "1017  Quite Good,good pencil,Value for money,Brillia...   \n",
      "1018  Super charger in lapster,Best among the rest,C...   \n",
      "1019  Will not work with new system,Veri good,Ok pro...   \n",
      "\n",
      "                                         review_content  \\\n",
      "0     Looks durable Charging is fine tooNo complains...   \n",
      "1     I ordered this cable to connect my phone to An...   \n",
      "2     Not quite durable and sturdy,https://m.media-a...   \n",
      "3     Good product,long wire,Charges good,Nice,I bou...   \n",
      "4     Bought this instead of original apple, does th...   \n",
      "...                                                 ...   \n",
      "1007  Good,Thoda sa kam stable hai, phone lagane ke ...   \n",
      "1010  Sturdy packing, good product!,Have used this b...   \n",
      "1017  After 10 days of use bhaut acha chl rha ha and...   \n",
      "1018  Best quality,The product looks original-like a...   \n",
      "1019  Was working fine with window 10 old computer b...   \n",
      "\n",
      "                                               img_link  \\\n",
      "0     https://m.media-amazon.com/images/W/WEBP_40237...   \n",
      "1     https://m.media-amazon.com/images/W/WEBP_40237...   \n",
      "2     https://m.media-amazon.com/images/W/WEBP_40237...   \n",
      "3     https://m.media-amazon.com/images/I/41V5FtEWPk...   \n",
      "4     https://m.media-amazon.com/images/W/WEBP_40237...   \n",
      "...                                                 ...   \n",
      "1007  https://m.media-amazon.com/images/I/41fDM4QUfv...   \n",
      "1010  https://m.media-amazon.com/images/I/41J6oGU8w5...   \n",
      "1017  https://m.media-amazon.com/images/I/217Lv1D3bH...   \n",
      "1018  https://m.media-amazon.com/images/W/WEBP_40237...   \n",
      "1019  https://m.media-amazon.com/images/W/WEBP_40237...   \n",
      "\n",
      "                                           product_link  \n",
      "0     https://www.amazon.in/Wayona-Braided-WN3LG1-Sy...  \n",
      "1     https://www.amazon.in/Ambrane-Unbreakable-Char...  \n",
      "2     https://www.amazon.in/Sounce-iPhone-Charging-C...  \n",
      "3     https://www.amazon.in/Deuce-300-Resistant-Tang...  \n",
      "4     https://www.amazon.in/Portronics-Konnect-POR-1...  \n",
      "...                                                 ...  \n",
      "1007  https://www.amazon.in/WeCool-Reinforced-Functi...  \n",
      "1010  https://www.amazon.in/Wayona-Cable-Braided-Cha...  \n",
      "1017  https://www.amazon.in/Wireless-Generation-Sens...  \n",
      "1018  https://www.amazon.in/Lapster-compatible-OnePl...  \n",
      "1019  https://www.amazon.in/Receiver-300Mbps-802-11b...  \n",
      "\n",
      "[188 rows x 16 columns]\n"
     ]
    }
   ],
   "source": [
    "print(original_amazon_dataset[duplicate_reviews])"
   ]
  },
  {
   "cell_type": "code",
   "execution_count": 21,
   "id": "41f6fc33-9d96-4905-abe5-fdd104bbcd82",
   "metadata": {},
   "outputs": [
    {
     "name": "stdout",
     "output_type": "stream",
     "text": [
      "188\n"
     ]
    }
   ],
   "source": [
    "num_duplicate_reviews = original_amazon_dataset.duplicated(subset=['product_id', 'user_id'], keep=False).sum()\n",
    "print(num_duplicate_reviews)"
   ]
  },
  {
   "cell_type": "code",
   "execution_count": 22,
   "id": "afe7acf6-3ad7-4938-beba-a08bbf2a445f",
   "metadata": {},
   "outputs": [],
   "source": [
    "original_amazon_dataset.drop_duplicates(subset=['product_id', 'user_id'], keep='first', inplace=True)"
   ]
  },
  {
   "cell_type": "code",
   "execution_count": 23,
   "id": "8837f6fa-23a9-46b7-9e23-0336b47b021e",
   "metadata": {},
   "outputs": [
    {
     "name": "stdout",
     "output_type": "stream",
     "text": [
      "Remaining rows after dropping duplicate reviews: 1361\n"
     ]
    }
   ],
   "source": [
    "print(f\"Remaining rows after dropping duplicate reviews: {original_amazon_dataset.shape[0]}\")"
   ]
  },
  {
   "cell_type": "code",
   "execution_count": 24,
   "id": "a182d024-3b8f-4c99-b425-8fd46a1b0f7b",
   "metadata": {},
   "outputs": [
    {
     "data": {
      "text/plain": [
       "array(['Computers&Accessories|Accessories&Peripherals|Cables&Accessories|Cables|USBCables',\n",
       "       'Computers&Accessories|NetworkingDevices|NetworkAdapters|WirelessUSBAdapters',\n",
       "       'Electronics|HomeTheater,TV&Video|Accessories|Cables|HDMICables',\n",
       "       'Electronics|HomeTheater,TV&Video|Televisions|SmartTelevisions',\n",
       "       'Electronics|HomeTheater,TV&Video|Accessories|RemoteControls',\n",
       "       'Electronics|HomeTheater,TV&Video|Televisions|StandardTelevisions',\n",
       "       'Electronics|HomeTheater,TV&Video|Accessories|TVMounts,Stands&Turntables|TVWall&CeilingMounts',\n",
       "       'Electronics|HomeTheater,TV&Video|Accessories|Cables|RCACables',\n",
       "       'Electronics|HomeAudio|Accessories|SpeakerAccessories|Mounts',\n",
       "       'Electronics|HomeTheater,TV&Video|Accessories|Cables|OpticalCables',\n",
       "       'Electronics|HomeTheater,TV&Video|Projectors',\n",
       "       'Electronics|HomeAudio|Accessories|Adapters',\n",
       "       'Electronics|HomeTheater,TV&Video|SatelliteEquipment|SatelliteReceivers',\n",
       "       'Computers&Accessories|Accessories&Peripherals|Cables&Accessories|Cables|DVICables',\n",
       "       'Electronics|HomeTheater,TV&Video|Accessories|Cables|SpeakerCables',\n",
       "       'Electronics|HomeAudio|MediaStreamingDevices|StreamingClients',\n",
       "       'Electronics|HomeTheater,TV&Video|AVReceivers&Amplifiers',\n",
       "       'Electronics|HomeAudio|Speakers|TowerSpeakers',\n",
       "       'Electronics|HomeTheater,TV&Video|Accessories|3DGlasses',\n",
       "       'Electronics|WearableTechnology|SmartWatches',\n",
       "       'Electronics|Mobiles&Accessories|MobileAccessories|Chargers|PowerBanks',\n",
       "       'Electronics|Mobiles&Accessories|Smartphones&BasicMobiles|Smartphones',\n",
       "       'Electronics|Accessories|MemoryCards|MicroSD',\n",
       "       'Electronics|Mobiles&Accessories|Smartphones&BasicMobiles|BasicMobiles',\n",
       "       'Electronics|Headphones,Earbuds&Accessories|Headphones|In-Ear',\n",
       "       'Electronics|Mobiles&Accessories|MobileAccessories|Chargers|AutomobileChargers',\n",
       "       'Electronics|Mobiles&Accessories|MobileAccessories|AutomobileAccessories|Cradles',\n",
       "       'Electronics|Mobiles&Accessories|MobileAccessories|Chargers|WallChargers',\n",
       "       'Electronics|Mobiles&Accessories|MobileAccessories|Cables&Adapters|OTGAdapters',\n",
       "       'Electronics|Mobiles&Accessories|MobileAccessories|Photo&VideoAccessories|Tripods',\n",
       "       'Electronics|Mobiles&Accessories|MobileAccessories|Photo&VideoAccessories|SelfieSticks',\n",
       "       'Electronics|Mobiles&Accessories|MobileAccessories|Stands',\n",
       "       'Computers&Accessories|Accessories&Peripherals|Cables&Accessories|CableConnectionProtectors',\n",
       "       'Electronics|Mobiles&Accessories|MobileAccessories|Décor',\n",
       "       'Electronics|Mobiles&Accessories|MobileAccessories|Maintenance,Upkeep&Repairs|ScreenProtectors',\n",
       "       'Electronics|Mobiles&Accessories|MobileAccessories|StylusPens',\n",
       "       'Electronics|Mobiles&Accessories|MobileAccessories|Mounts|Bedstand&DeskMounts',\n",
       "       'Electronics|Mobiles&Accessories|MobileAccessories|Cases&Covers|BasicCases',\n",
       "       'Electronics|Mobiles&Accessories|MobileAccessories|Mounts|HandlebarMounts',\n",
       "       'Electronics|Headphones,Earbuds&Accessories|Headphones|On-Ear',\n",
       "       'Computers&Accessories|Accessories&Peripherals|LaptopAccessories|CameraPrivacyCovers',\n",
       "       'Electronics|Headphones,Earbuds&Accessories|Adapters',\n",
       "       'Electronics|Mobiles&Accessories|MobileAccessories|Décor|PhoneCharms',\n",
       "       'Electronics|Mobiles&Accessories|MobileAccessories|Mounts|Shower&WallMounts',\n",
       "       'Computers&Accessories|ExternalDevices&DataStorage|PenDrives',\n",
       "       'Computers&Accessories|Accessories&Peripherals|Keyboards,Mice&InputDevices|Mice',\n",
       "       'Computers&Accessories|Accessories&Peripherals|Keyboards,Mice&InputDevices|GraphicTablets',\n",
       "       'Computers&Accessories|Accessories&Peripherals|LaptopAccessories|Lapdesks',\n",
       "       'Computers&Accessories|Accessories&Peripherals|LaptopAccessories|NotebookComputerStands',\n",
       "       'Computers&Accessories|Accessories&Peripherals|Keyboards,Mice&InputDevices|Keyboards',\n",
       "       'MusicalInstruments|Microphones|Condenser',\n",
       "       'Electronics|GeneralPurposeBatteries&BatteryChargers|DisposableBatteries',\n",
       "       'OfficeProducts|OfficePaperProducts|Paper|Stationery|Pens,Pencils&WritingSupplies|Pens&Refills|GelInkRollerballPens',\n",
       "       'Home&Kitchen|CraftMaterials|Scrapbooking|Tape',\n",
       "       'Computers&Accessories|Accessories&Peripherals|Keyboards,Mice&InputDevices|Keyboard&MouseSets',\n",
       "       'Computers&Accessories|ExternalDevices&DataStorage|ExternalHardDisks',\n",
       "       'Electronics|Cameras&Photography|VideoCameras',\n",
       "       'Electronics|Cameras&Photography|Accessories|Tripods&Monopods|Tabletop&TravelTripods',\n",
       "       'OfficeProducts|OfficeElectronics|Calculators|Scientific',\n",
       "       'Computers&Accessories|NetworkingDevices|Repeaters&Extenders',\n",
       "       'Electronics|Cameras&Photography|Accessories|Tripods&Monopods|TripodLegs',\n",
       "       'Computers&Accessories|Printers,Inks&Accessories|Inks,Toners&Cartridges|InkjetInkCartridges',\n",
       "       'Computers&Accessories|Accessories&Peripherals|Keyboards,Mice&InputDevices|Keyboard&MiceAccessories|DustCovers',\n",
       "       'Computers&Accessories|Accessories&Peripherals|PCGamingPeripherals|GamingMice',\n",
       "       'Home&Kitchen|CraftMaterials|PaintingMaterials|Paints',\n",
       "       'Computers&Accessories|Accessories&Peripherals|Keyboards,Mice&InputDevices|Keyboard&MiceAccessories|MousePads',\n",
       "       'Computers&Accessories|Accessories&Peripherals|HardDiskBags',\n",
       "       'Electronics|Cameras&Photography|Flashes|Macro&RinglightFlashes',\n",
       "       'Computers&Accessories|NetworkingDevices',\n",
       "       'Computers&Accessories|NetworkingDevices|Routers',\n",
       "       'Electronics|Headphones,Earbuds&Accessories|Headphones|Over-Ear',\n",
       "       'Electronics|HomeAudio|Speakers|BluetoothSpeakers',\n",
       "       'Electronics|GeneralPurposeBatteries&BatteryChargers',\n",
       "       'OfficeProducts|OfficePaperProducts|Paper|Stationery|Notebooks,WritingPads&Diaries|WireboundNotebooks',\n",
       "       'Electronics|GeneralPurposeBatteries&BatteryChargers|RechargeableBatteries',\n",
       "       'Computers&Accessories|NetworkingDevices|NetworkAdapters|BluetoothAdapters',\n",
       "       'Computers&Accessories|Accessories&Peripherals|Adapters|USBtoUSBAdapters',\n",
       "       'Electronics|Cameras&Photography|Accessories|Tripods&Monopods|CompleteTripodUnits',\n",
       "       'OfficeProducts|OfficePaperProducts|Paper|Stationery|Notebooks,WritingPads&Diaries|Notepads&MemoBooks',\n",
       "       'Electronics|Cameras&Photography|Accessories|Film',\n",
       "       'Computers&Accessories|Monitors',\n",
       "       'Computers&Accessories|Accessories&Peripherals|USBGadgets|Lamps',\n",
       "       'Electronics|Cameras&Photography|Accessories|Cleaners|CleaningKits',\n",
       "       'Electronics|Cameras&Photography|SecurityCameras|DomeCameras',\n",
       "       'Computers&Accessories|Accessories&Peripherals|TabletAccessories|ScreenProtectors',\n",
       "       'Computers&Accessories|Accessories&Peripherals|PCGamingPeripherals|Gamepads',\n",
       "       'OfficeProducts|OfficeElectronics|Calculators|Basic',\n",
       "       'Computers&Accessories|Accessories&Peripherals|USBHubs',\n",
       "       'Computers&Accessories|Accessories&Peripherals|Audio&VideoAccessories|PCMicrophones',\n",
       "       'Electronics|HomeAudio|Speakers|OutdoorSpeakers',\n",
       "       'Computers&Accessories|Accessories&Peripherals|LaptopAccessories|Bags&Sleeves|LaptopSleeves&Slipcases',\n",
       "       'Computers&Accessories|ExternalDevices&DataStorage|ExternalMemoryCardReaders',\n",
       "       'OfficeProducts|OfficePaperProducts|Paper|Stationery|Pens,Pencils&WritingSupplies|Pens&Refills|BottledInk',\n",
       "       'OfficeProducts|OfficePaperProducts|Paper|Stationery|Notebooks,WritingPads&Diaries|CompositionNotebooks',\n",
       "       'OfficeProducts|OfficePaperProducts|Paper|Stationery|Pens,Pencils&WritingSupplies|Pens&Refills|RetractableBallpointPens',\n",
       "       'Computers&Accessories|Accessories&Peripherals|Cables&Accessories|Cables|EthernetCables',\n",
       "       'Computers&Accessories|Components|Memory',\n",
       "       'Computers&Accessories|Accessories&Peripherals|UninterruptedPowerSupplies',\n",
       "       'Electronics|Headphones,Earbuds&Accessories|Cases',\n",
       "       'Electronics|Accessories|MemoryCards|SecureDigitalCards',\n",
       "       'Electronics|Mobiles&Accessories|MobileAccessories|Photo&VideoAccessories|Flashes&SelfieLights|SelfieLights',\n",
       "       'Computers&Accessories|Accessories&Peripherals|Audio&VideoAccessories|Webcams&VoIPEquipment|Webcams',\n",
       "       'Computers&Accessories|Accessories&Peripherals|LaptopAccessories|CoolingPads',\n",
       "       'Computers&Accessories|Accessories&Peripherals|LaptopAccessories',\n",
       "       'Computers&Accessories|Accessories&Peripherals|TabletAccessories|Stands',\n",
       "       'HomeImprovement|Electrical|Adapters&Multi-Outlets',\n",
       "       'OfficeProducts|OfficePaperProducts|Paper|Copy&PrintingPaper|ColouredPaper',\n",
       "       'Computers&Accessories|Components|InternalSolidStateDrives',\n",
       "       'Electronics|HomeAudio|Speakers|MultimediaSpeakerSystems',\n",
       "       'Computers&Accessories|NetworkingDevices|DataCards&Dongles',\n",
       "       'Computers&Accessories|Accessories&Peripherals|LaptopAccessories|LaptopChargers&PowerSupplies',\n",
       "       'Computers&Accessories|Accessories&Peripherals|Audio&VideoAccessories|PCSpeakers',\n",
       "       'Electronics|Cameras&Photography|Accessories|Batteries&Chargers|BatteryChargers',\n",
       "       'Computers&Accessories|Accessories&Peripherals|TabletAccessories|Bags,Cases&Sleeves|Cases',\n",
       "       'OfficeProducts|OfficePaperProducts|Paper|Stationery|Pens,Pencils&WritingSupplies|Pens&Refills|StickBallpointPens',\n",
       "       'Home&Kitchen|CraftMaterials|DrawingMaterials|DrawingMedia|Pencils|WoodenPencils',\n",
       "       'Computers&Accessories|Components|InternalHardDrives',\n",
       "       'Computers&Accessories|Printers,Inks&Accessories|Printers',\n",
       "       'Home&Kitchen|CraftMaterials|DrawingMaterials|DrawingMedia|Pens',\n",
       "       'Computers&Accessories|Accessories&Peripherals|Cables&Accessories|Cables|SATACables',\n",
       "       'Computers&Accessories|Accessories&Peripherals|Audio&VideoAccessories|PCHeadsets',\n",
       "       'Computers&Accessories|Accessories&Peripherals|PCGamingPeripherals|GamingKeyboards',\n",
       "       'Electronics|HomeAudio|Speakers|SoundbarSpeakers',\n",
       "       'Electronics|Headphones,Earbuds&Accessories|Earpads',\n",
       "       'Computers&Accessories|Printers,Inks&Accessories|Printers|InkjetPrinters',\n",
       "       'Toys&Games|Arts&Crafts|Drawing&PaintingSupplies|ColouringPens&Markers',\n",
       "       'Computers&Accessories|Accessories&Peripherals|PCGamingPeripherals|Headsets',\n",
       "       'Computers&Accessories|ExternalDevices&DataStorage|ExternalSolidStateDrives',\n",
       "       'Computers&Accessories|NetworkingDevices|NetworkAdapters|PowerLANAdapters',\n",
       "       'Computers&Accessories|Printers,Inks&Accessories|Inks,Toners&Cartridges|InkjetInkRefills&Kits',\n",
       "       'OfficeProducts|OfficePaperProducts|Paper|Stationery|Notebooks,WritingPads&Diaries',\n",
       "       'Electronics|Cameras&Photography|Accessories|PhotoStudio&Lighting|PhotoBackgroundAccessories|BackgroundSupports',\n",
       "       'OfficeProducts|OfficeElectronics|Calculators|Financial&Business',\n",
       "       'Electronics|PowerAccessories|SurgeProtectors',\n",
       "       'Computers&Accessories|Tablets',\n",
       "       'HomeImprovement|Electrical|CordManagement',\n",
       "       'Home&Kitchen|CraftMaterials|PaintingMaterials',\n",
       "       'Computers&Accessories|Printers,Inks&Accessories|Inks,Toners&Cartridges|TonerCartridges',\n",
       "       'OfficeProducts|OfficePaperProducts|Paper|Stationery|Pens,Pencils&WritingSupplies|Pens&Refills|LiquidInkRollerballPens',\n",
       "       'OfficeProducts|OfficePaperProducts|Paper|Stationery|Pens,Pencils&WritingSupplies|Pens&Refills|FountainPens',\n",
       "       'Computers&Accessories|Accessories&Peripherals|HardDriveAccessories|Caddies',\n",
       "       'Computers&Accessories|Laptops|TraditionalLaptops',\n",
       "       'Home&Kitchen|Kitchen&HomeAppliances|SmallKitchenAppliances|Kettles&HotWaterDispensers|ElectricKettles',\n",
       "       'Home&Kitchen|Heating,Cooling&AirQuality|RoomHeaters|ElectricHeaters',\n",
       "       'Home&Kitchen|Heating,Cooling&AirQuality|RoomHeaters|FanHeaters',\n",
       "       'Home&Kitchen|Kitchen&HomeAppliances|Vacuum,Cleaning&Ironing|Irons,Steamers&Accessories|LintShavers',\n",
       "       'Home&Kitchen|Kitchen&HomeAppliances|SmallKitchenAppliances|DigitalKitchenScales',\n",
       "       'Home&Kitchen|Kitchen&Dining|KitchenTools|ManualChoppers&Chippers|Choppers',\n",
       "       'Home&Kitchen|Kitchen&HomeAppliances|SmallKitchenAppliances|InductionCooktop',\n",
       "       'Home&Kitchen|Kitchen&HomeAppliances|SmallKitchenAppliances|HandBlenders',\n",
       "       'Home&Kitchen|Kitchen&HomeAppliances|Vacuum,Cleaning&Ironing|Irons,Steamers&Accessories|Irons|DryIrons',\n",
       "       'Home&Kitchen|Kitchen&HomeAppliances|SmallKitchenAppliances|MixerGrinders',\n",
       "       'Home&Kitchen|Heating,Cooling&AirQuality|WaterHeaters&Geysers|InstantWaterHeaters',\n",
       "       'Home&Kitchen|Heating,Cooling&AirQuality|RoomHeaters',\n",
       "       'Home&Kitchen|Kitchen&HomeAppliances|SmallKitchenAppliances|Kettles&HotWaterDispensers|Kettle&ToasterSets',\n",
       "       'Home&Kitchen|Heating,Cooling&AirQuality|WaterHeaters&Geysers|StorageWaterHeaters',\n",
       "       'Home&Kitchen|Heating,Cooling&AirQuality|WaterHeaters&Geysers|ImmersionRods',\n",
       "       'Home&Kitchen|Kitchen&HomeAppliances|SmallKitchenAppliances|DeepFatFryers|AirFryers',\n",
       "       'Home&Kitchen|HomeStorage&Organization|LaundryOrganization|LaundryBaskets',\n",
       "       'Home&Kitchen|Kitchen&HomeAppliances|Vacuum,Cleaning&Ironing|Irons,Steamers&Accessories|Irons|SteamIrons',\n",
       "       'Home&Kitchen|Kitchen&HomeAppliances|SmallKitchenAppliances|JuicerMixerGrinders',\n",
       "       'Home&Kitchen|Kitchen&HomeAppliances|Vacuum,Cleaning&Ironing|Vacuums&FloorCare|Vacuums|HandheldVacuums',\n",
       "       'Home&Kitchen|Kitchen&HomeAppliances|SmallKitchenAppliances|EggBoilers',\n",
       "       'Home&Kitchen|Kitchen&HomeAppliances|SmallKitchenAppliances|SandwichMakers',\n",
       "       'Home&Kitchen|Kitchen&HomeAppliances|SmallKitchenAppliances|MiniFoodProcessors&Choppers',\n",
       "       'Home&Kitchen|Kitchen&HomeAppliances|SmallKitchenAppliances|DigitalKitchenScales|DigitalScales',\n",
       "       'Home&Kitchen|Kitchen&HomeAppliances|SmallKitchenAppliances|VacuumSealers',\n",
       "       'Home&Kitchen|Heating,Cooling&AirQuality|Fans|CeilingFans',\n",
       "       'Home&Kitchen|Kitchen&HomeAppliances|Vacuum,Cleaning&Ironing|Vacuums&FloorCare|Vacuums|CanisterVacuums',\n",
       "       'Home&Kitchen|Kitchen&HomeAppliances|Vacuum,Cleaning&Ironing|PressureWashers,Steam&WindowCleaners',\n",
       "       'Home&Kitchen|Heating,Cooling&AirQuality|RoomHeaters|HalogenHeaters',\n",
       "       'Home&Kitchen|Kitchen&HomeAppliances|SmallKitchenAppliances|Pop-upToasters',\n",
       "       'Home&Kitchen|Heating,Cooling&AirQuality|RoomHeaters|HeatConvectors',\n",
       "       'Home&Kitchen|Kitchen&HomeAppliances|Coffee,Tea&Espresso|CoffeeGrinders|ElectricGrinders',\n",
       "       'Home&Kitchen|Heating,Cooling&AirQuality|Fans|ExhaustFans',\n",
       "       'Home&Kitchen|Kitchen&HomeAppliances|Coffee,Tea&Espresso|DripCoffeeMachines',\n",
       "       'Home&Kitchen|Kitchen&HomeAppliances|WaterPurifiers&Accessories|WaterPurifierAccessories',\n",
       "       'Home&Kitchen|Kitchen&HomeAppliances|WaterPurifiers&Accessories|WaterCartridges',\n",
       "       'Home&Kitchen|Kitchen&HomeAppliances|SmallKitchenAppliances|Rice&PastaCookers',\n",
       "       'Car&Motorbike|CarAccessories|InteriorAccessories|AirPurifiers&Ionizers',\n",
       "       'Home&Kitchen|Kitchen&HomeAppliances|Vacuum,Cleaning&Ironing|Vacuums&FloorCare|Vacuums|Wet-DryVacuums',\n",
       "       'Home&Kitchen|Heating,Cooling&AirQuality|AirPurifiers|HEPAAirPurifiers',\n",
       "       'Home&Kitchen|Kitchen&HomeAppliances|WaterPurifiers&Accessories|WaterFilters&Purifiers',\n",
       "       'Home&Kitchen|HomeStorage&Organization|LaundryOrganization|LaundryBags',\n",
       "       'Home&Kitchen|Kitchen&HomeAppliances|SewingMachines&Accessories|Sewing&EmbroideryMachines',\n",
       "       'Home&Kitchen|HomeStorage&Organization|LaundryOrganization|IroningAccessories|SprayBottles',\n",
       "       'Home&Kitchen|Kitchen&HomeAppliances|SmallKitchenAppliances|HandMixers',\n",
       "       'Home&Kitchen|Kitchen&HomeAppliances|SmallKitchenAppliances|Mills&Grinders|WetGrinders',\n",
       "       'Home&Kitchen|Kitchen&HomeAppliances|SmallKitchenAppliances|OvenToasterGrills',\n",
       "       'Home&Kitchen|Kitchen&HomeAppliances|SmallKitchenAppliances|Juicers',\n",
       "       'Home&Kitchen|Kitchen&HomeAppliances|SmallKitchenAppliances',\n",
       "       'Health&PersonalCare|HomeMedicalSupplies&Equipment|HealthMonitors|WeighingScales|DigitalBathroomScales',\n",
       "       'Home&Kitchen|Kitchen&HomeAppliances|Coffee,Tea&Espresso|EspressoMachines',\n",
       "       'Home&Kitchen|Heating,Cooling&AirQuality|Fans|TableFans',\n",
       "       'Home&Kitchen|Kitchen&HomeAppliances|Coffee,Tea&Espresso|MilkFrothers',\n",
       "       'Home&Kitchen|Heating,Cooling&AirQuality|Humidifiers',\n",
       "       'Home&Kitchen|Kitchen&HomeAppliances|SmallKitchenAppliances|SmallApplianceParts&Accessories|StandMixerAccessories',\n",
       "       'Home&Kitchen|Kitchen&HomeAppliances|Vacuum,Cleaning&Ironing|Vacuums&FloorCare|Vacuums|RoboticVacuums',\n",
       "       'Home&Kitchen|Kitchen&HomeAppliances|SmallKitchenAppliances|YogurtMakers',\n",
       "       'Home&Kitchen|Kitchen&HomeAppliances|SmallKitchenAppliances|Juicers|ColdPressJuicers',\n",
       "       'Home&Kitchen|Heating,Cooling&AirQuality|AirConditioners|Split-SystemAirConditioners',\n",
       "       'Home&Kitchen|Kitchen&HomeAppliances|SmallKitchenAppliances|SmallApplianceParts&Accessories',\n",
       "       'Home&Kitchen|Kitchen&HomeAppliances|SmallKitchenAppliances|WaffleMakers&Irons',\n",
       "       'Home&Kitchen|Kitchen&HomeAppliances|Coffee,Tea&Espresso|StovetopEspressoPots',\n",
       "       'Home&Kitchen|Kitchen&HomeAppliances|Coffee,Tea&Espresso|CoffeeMakerAccessories|MeasuringSpoons',\n",
       "       'Home&Kitchen|Kitchen&HomeAppliances|Coffee,Tea&Espresso|CoffeePresses',\n",
       "       'Home&Kitchen|Kitchen&HomeAppliances|SmallKitchenAppliances|RotiMakers',\n",
       "       'Home&Kitchen|Heating,Cooling&AirQuality|Parts&Accessories|FanParts&Accessories',\n",
       "       'Home&Kitchen|Kitchen&HomeAppliances|SmallKitchenAppliances|StandMixers',\n",
       "       'Home&Kitchen|Heating,Cooling&AirQuality|Fans|PedestalFans',\n",
       "       'Home&Kitchen|Kitchen&HomeAppliances|Vacuum,Cleaning&Ironing|Vacuums&FloorCare|VacuumAccessories|VacuumBags|HandheldBags'],\n",
       "      dtype=object)"
      ]
     },
     "execution_count": 24,
     "metadata": {},
     "output_type": "execute_result"
    }
   ],
   "source": [
    "original_amazon_dataset['category'].unique()"
   ]
  },
  {
   "cell_type": "code",
   "execution_count": 25,
   "id": "05ec1008-adb2-4228-abfa-63b4a65f97f8",
   "metadata": {},
   "outputs": [
    {
     "name": "stdout",
     "output_type": "stream",
     "text": [
      "211\n"
     ]
    }
   ],
   "source": [
    "num_unique_categories = original_amazon_dataset['category'].nunique()\n",
    "print(num_unique_categories)"
   ]
  },
  {
   "cell_type": "markdown",
   "id": "7d0572fa-9341-46d0-acb6-499c07a3bf38",
   "metadata": {},
   "source": [
    "To simplify the product categories, I will extract the top-level category from each record."
   ]
  },
  {
   "cell_type": "code",
   "execution_count": 26,
   "id": "f739c1d4-1754-4115-ab5d-59c3fe4084f8",
   "metadata": {},
   "outputs": [],
   "source": [
    "# Get the first category before the first '|'\n",
    "original_amazon_dataset['main_category'] = original_amazon_dataset['category'].str.split('|').str[0]"
   ]
  },
  {
   "cell_type": "code",
   "execution_count": 27,
   "id": "597ce6ee-9726-40ad-b9f8-5b1020050a1b",
   "metadata": {},
   "outputs": [
    {
     "data": {
      "text/plain": [
       "main_category\n",
       "Electronics              496\n",
       "Home&Kitchen             448\n",
       "Computers&Accessories    379\n",
       "OfficeProducts            31\n",
       "MusicalInstruments         2\n",
       "HomeImprovement            2\n",
       "Toys&Games                 1\n",
       "Car&Motorbike              1\n",
       "Health&PersonalCare        1\n",
       "Name: count, dtype: int64"
      ]
     },
     "execution_count": 27,
     "metadata": {},
     "output_type": "execute_result"
    }
   ],
   "source": [
    "original_amazon_dataset['main_category'].value_counts()"
   ]
  },
  {
   "cell_type": "code",
   "execution_count": 28,
   "id": "fcb98b6c-91a3-4b10-b778-71d6437c76c4",
   "metadata": {},
   "outputs": [],
   "source": [
    "original_amazon_dataset = original_amazon_dataset.dropna(subset=['rating'])"
   ]
  },
  {
   "cell_type": "markdown",
   "id": "30ed6013-27fa-4aa0-8159-0baeb163563f",
   "metadata": {},
   "source": [
    "## Step 3: Analyzing the Data"
   ]
  },
  {
   "cell_type": "markdown",
   "id": "15e5bb41-a73b-4a7a-a566-ffb0e9578036",
   "metadata": {},
   "source": [
    " In this section, I will perform sentiment analysis using VADER. A sentiment score will be calculated for each review."
   ]
  },
  {
   "cell_type": "code",
   "execution_count": 29,
   "id": "63855c59-150b-4b52-85d6-799b75607e96",
   "metadata": {},
   "outputs": [
    {
     "name": "stdout",
     "output_type": "stream",
     "text": [
      "Requirement already satisfied: vaderSentiment in /opt/anaconda3/lib/python3.12/site-packages (3.3.2)\n",
      "Requirement already satisfied: requests in /opt/anaconda3/lib/python3.12/site-packages (from vaderSentiment) (2.32.3)\n",
      "Requirement already satisfied: charset-normalizer<4,>=2 in /opt/anaconda3/lib/python3.12/site-packages (from requests->vaderSentiment) (3.3.2)\n",
      "Requirement already satisfied: idna<4,>=2.5 in /opt/anaconda3/lib/python3.12/site-packages (from requests->vaderSentiment) (3.7)\n",
      "Requirement already satisfied: urllib3<3,>=1.21.1 in /opt/anaconda3/lib/python3.12/site-packages (from requests->vaderSentiment) (2.2.3)\n",
      "Requirement already satisfied: certifi>=2017.4.17 in /opt/anaconda3/lib/python3.12/site-packages (from requests->vaderSentiment) (2024.8.30)\n"
     ]
    }
   ],
   "source": [
    "# install VADER to perform sentiment analysis\n",
    "!pip install vaderSentiment"
   ]
  },
  {
   "cell_type": "code",
   "execution_count": 30,
   "id": "0241cace-9ac2-4824-9aaa-ff465bd19226",
   "metadata": {},
   "outputs": [],
   "source": [
    "analyzer = SentimentIntensityAnalyzer()\n",
    "\n",
    "# Apply VADER sentiment analysis\n",
    "original_amazon_dataset['sentiment_score'] = original_amazon_dataset['review_title'].apply(lambda x: analyzer.polarity_scores(x)['compound'])"
   ]
  },
  {
   "cell_type": "code",
   "execution_count": 31,
   "id": "2b371869-b27d-4299-abaf-dcf254783b55",
   "metadata": {},
   "outputs": [
    {
     "name": "stdout",
     "output_type": "stream",
     "text": [
      "Pearson correlation: 0.216\n",
      "Spearman correlation: 0.163\n"
     ]
    }
   ],
   "source": [
    "# Pearson (linear), Spearman (monotonic)\n",
    "pearson_corr, _ = pearsonr(original_amazon_dataset['sentiment_score'], original_amazon_dataset['rating'])\n",
    "spearman_corr, _ = spearmanr(original_amazon_dataset['sentiment_score'], original_amazon_dataset['rating'])\n",
    "\n",
    "print(f\"Pearson correlation: {pearson_corr:.3f}\")\n",
    "print(f\"Spearman correlation: {spearman_corr:.3f}\")"
   ]
  },
  {
   "cell_type": "code",
   "execution_count": 32,
   "id": "922177f2-cb0e-4966-9dca-bdecbb5d60bf",
   "metadata": {},
   "outputs": [
    {
     "data": {
      "image/png": "[encoded data removed]",
      "text/plain": [
       "<Figure size 800x600 with 1 Axes>"
      ]
     },
     "metadata": {},
     "output_type": "display_data"
    }
   ],
   "source": [
    "plt.figure(figsize=(8,6))\n",
    "sns.scatterplot(x=original_amazon_dataset['sentiment_score'], \n",
    "                y=original_amazon_dataset['rating'], \n",
    "                alpha=0.3)\n",
    "plt.title('Sentiment Score vs. Star Rating')\n",
    "plt.xlabel('Sentiment Score (-1 to 1)')\n",
    "plt.ylabel('Star Rating (1 to 5)')\n",
    "plt.grid(True)\n",
    "plt.tight_layout()\n",
    "plt.show()"
   ]
  },
  {
   "cell_type": "markdown",
   "id": "43b55876-4b79-4c6d-9df8-ca0c696c2000",
   "metadata": {},
   "source": [
    "The Pearson correlation test determined that there was a weak positive linear relationship between sentiment score and rating. As a sentiment score becomes more positive, the star rating increases; however, the increase is not always strongly or consistently.\n",
    "\n",
    "The Spearman correlation test indicated a weak positive monotonic relationship between sentiment score and rating. Higher sentiment generally corresponds to  higher ratings; however, the data detected many inconsistencies with this trend. This suggests that someone could have high sentiment in a written review and still give a 3-star review."
   ]
  },
  {
   "cell_type": "code",
   "execution_count": 33,
   "id": "1a6ee9b0-80c2-4a79-8c4c-38dc4d514e81",
   "metadata": {},
   "outputs": [],
   "source": [
    "# function that checks if the product category has at least 2 reviews before computing correlation\n",
    "def safe_pearson(product_category):\n",
    "    if len(product_category) < 2:\n",
    "        return None  # or np.nan\n",
    "    return pearsonr(product_category['sentiment_score'], product_category['rating'])[0]"
   ]
  },
  {
   "cell_type": "code",
   "execution_count": 34,
   "id": "1b71c3f2-7806-4ded-8861-f2b9e87bedd7",
   "metadata": {},
   "outputs": [
    {
     "name": "stdout",
     "output_type": "stream",
     "text": [
      "main_category\n",
      "MusicalInstruments       1.000000\n",
      "HomeImprovement          1.000000\n",
      "Electronics              0.254701\n",
      "Home&Kitchen             0.219330\n",
      "Computers&Accessories    0.208361\n",
      "OfficeProducts          -0.180059\n",
      "dtype: float64\n"
     ]
    },
    {
     "name": "stderr",
     "output_type": "stream",
     "text": [
      "/var/folders/z8/k_38h5950zvflgczl0bx3g2r0000gn/T/ipykernel_11268/1224291024.py:3: DeprecationWarning: DataFrameGroupBy.apply operated on the grouping columns. This behavior is deprecated, and in a future version of pandas the grouping columns will be excluded from the operation. Either pass `include_groups=False` to exclude the groupings or explicitly select the grouping columns after groupby to silence this warning.\n",
      "  .apply(safe_pearson)\n"
     ]
    }
   ],
   "source": [
    "category_correlation = (\n",
    "    original_amazon_dataset.groupby('main_category')\n",
    "    .apply(safe_pearson)\n",
    "    .dropna()  # Remove categories where correlation couldn't be computed\n",
    "    .sort_values(ascending=False)\n",
    ")\n",
    "\n",
    "print(category_correlation)"
   ]
  },
  {
   "cell_type": "code",
   "execution_count": 35,
   "id": "99b2cc25-9118-432d-aa09-e0061e91165c",
   "metadata": {},
   "outputs": [
    {
     "name": "stderr",
     "output_type": "stream",
     "text": [
      "/var/folders/z8/k_38h5950zvflgczl0bx3g2r0000gn/T/ipykernel_11268/2422109465.py:6: FutureWarning: \n",
      "\n",
      "Passing `palette` without assigning `hue` is deprecated and will be removed in v0.14.0. Assign the `y` variable to `hue` and set `legend=False` for the same effect.\n",
      "\n",
      "  sns.barplot(x='PearsonCorrelation', y='Category', data=category_corr_df, palette='viridis')\n"
     ]
    },
    {
     "data": {
      "image/png": "[encoded data removed]",
      "text/plain": [
       "<Figure size 1000x600 with 1 Axes>"
      ]
     },
     "metadata": {},
     "output_type": "display_data"
    }
   ],
   "source": [
    "category_corr_df = category_correlation.reset_index()\n",
    "category_corr_df.columns = ['Category', 'PearsonCorrelation']\n",
    "\n",
    "# Bar plot\n",
    "plt.figure(figsize=(10,6))\n",
    "sns.barplot(x='PearsonCorrelation', y='Category', data=category_corr_df, palette='viridis')\n",
    "plt.title('Pearson Correlation Between Sentiment & Star Rating by Category')\n",
    "plt.xlabel('Pearson Correlation')\n",
    "plt.ylabel('Product Category')\n",
    "plt.xlim(-1, 1)\n",
    "plt.tight_layout()\n",
    "plt.show()"
   ]
  },
  {
   "cell_type": "markdown",
   "id": "04f2efb4-22b1-47ad-a704-60cd8ca749e0",
   "metadata": {},
   "source": [
    "The Pearson and Spearson results show that the strength of the correlation between customer sentiment and star ratings varies across product categories. The Musical Instruments and Home Improvement categories showed perfect alignment; however, these results were likely skewed by small sample sizes and should be interpreted cautiously.\n",
    "\n",
    "The Electronics, Home & Kitchen, and Computers & Accessories categories show a weak but consistent positive correlation, suggesting that customers' written feedback tends to align — but not strongly — with their star ratings.\n",
    "\n",
    "The Office Products category showed a negative correlation, which may indicate inconsistencies within that category."
   ]
  },
  {
   "cell_type": "markdown",
   "id": "ec83641b-a871-4ff7-b768-f015aeb20578",
   "metadata": {},
   "source": [
    "## Step 4: Conclusion"
   ]
  },
  {
   "cell_type": "markdown",
   "id": "68300594-b4d5-457c-9927-8bbf2dabcb3e",
   "metadata": {},
   "source": [
    "This report aimed to answer the research question: \"How does customer sentiment in written reviews correlate with numerical star ratings across different product categories on Amazon?\". A sentiment analysis tool called VADER was used to assess Amazon reviews and assign a compound sentiment score to each review. When interpreting sentiment scores, a value closer to 1 suggests positive sentiment, a value closer to -1 suggests negative sentiment, and value closer to 0 suggests neutral sentiment. \n",
    "\n",
    "The scores found from VADER were then compared to star ratings using both Pearson and Spearman correlation tests. The overall results revealed a weak positive correlation between sentiment and star ratings. This suggests that customers may express sentiment inconsistently in their written feedback compared to the numeric ratings they assign. When broken down by product category, the correlation varied. The Office Products category exhibited the most inconsistencies between sentiment and star rating.\n",
    "\n",
    "Overall, the analysis suggests that sentiment analysis can offer valuable insight into customer satisfaction, but numerical ratings alone do not always reflect the tone or content of written reviews. The correlation between customer sentiment and star ratings is weak but statistically significant; therefore, analysts should reject the null hypothesis and accept the alternative confirming that there is a meaningful, though limited, relationship between sentiment through written sentiment and star ratings. \n",
    "\n",
    "Amazon could benefit from integrating sentiment analysis into their product review systems to better capture and interpret customer feedback."
   ]
  },
  {
   "cell_type": "code",
   "execution_count": null,
   "id": "f361559f-e6c6-46e9-b5c3-74b3da28d90e",
   "metadata": {},
   "outputs": [],
   "source": []
  }
 ],
 "metadata": {
  "kernelspec": {
   "display_name": "Python 3 (ipykernel)",
   "language": "python",
   "name": "python3"
  },
  "language_info": {
   "codemirror_mode": {
    "name": "ipython",
    "version": 3
   },
   "file_extension": ".py",
   "mimetype": "text/x-python",
   "name": "python",
   "nbconvert_exporter": "python",
   "pygments_lexer": "ipython3",
   "version": "3.12.7"
  }
 },
 "nbformat": 4,
 "nbformat_minor": 5
}
